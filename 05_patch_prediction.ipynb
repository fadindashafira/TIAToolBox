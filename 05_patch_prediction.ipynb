{
  "nbformat": 4,
  "nbformat_minor": 0,
  "metadata": {
    "colab": {
      "provenance": [],
      "gpuType": "T4",
      "authorship_tag": "ABX9TyOMbqTciXGFWFKepHPmAL6E",
      "include_colab_link": true
    },
    "kernelspec": {
      "name": "python3",
      "display_name": "Python 3"
    },
    "language_info": {
      "name": "python"
    },
    "accelerator": "GPU"
  },
  "cells": [
    {
      "cell_type": "markdown",
      "metadata": {
        "id": "view-in-github",
        "colab_type": "text"
      },
      "source": [
        "<a href=\"https://colab.research.google.com/github/fadindashafira/TIAToolBox/blob/main/05_patch_prediction.ipynb\" target=\"_parent\"><img src=\"https://colab.research.google.com/assets/colab-badge.svg\" alt=\"Open In Colab\"/></a>"
      ]
    },
    {
      "cell_type": "markdown",
      "source": [
        "# Patch Prediction Models\n",
        "\n",
        "In this example, we will show how to use TIAToolbox for patch-level prediction using a range of deep learning models.\n",
        "\n",
        "TIAToolbox can be used to **make predictions** on **pre-extracted image patches** or on larger image tiles / WSI, where image patches are extracted on the fly.\n",
        "\n",
        "WSI patch-level predictions can subsequently be aggregated to obtain a segmentation map.\n",
        "\n",
        "In particular, we will introduce the use of tiatoolbox module `patch_predictor`.\n",
        "\n",
        "A full list of the available models trained and provided in TIAToolbox for patch-level prediction is given below.\n",
        "\n",
        "* Models trained on the Kather 100k dataset [(details)](https://zenodo.org/record/1214456#.YJw4UEhKjvU):\n",
        "* alexnet-kather100k\n",
        "* resnet18-kather100k\n",
        "* resnet34-kather100k\n",
        "* resnet50-kather100k\n",
        "* resnet101-kather100k\n",
        "* resnext50_32x4d-kather100k\n",
        "* resnext101_32x8d-kather100k\n",
        "* wide_resnet50_2-kather100k\n",
        "* wide_resnet101_2-kather100k\n",
        "* densenet121-kather100k\n",
        "* densenet161-kather100k\n",
        "* densenet169-kather100k\n",
        "* densenet201-kather100k\n",
        "* mobilenet_v2-kather100k\n",
        "* mobilenet_v3_large-kather100k\n",
        "* mobilenet_v3_small-kather100k\n",
        "* googlenet-kather100k"
      ],
      "metadata": {
        "id": "eXDM8QNccW33"
      }
    },
    {
      "cell_type": "code",
      "source": [
        "!apt-get -y install libopenjp2-7-dev libopenjp2-tools openslide-tools | tail -n 1\n",
        "!pip install tiatoolbox | tail -n 1\n",
        "\n",
        "print(\"Installation is done.\")"
      ],
      "metadata": {
        "colab": {
          "base_uri": "https://localhost:8080/",
          "height": 322
        },
        "id": "WOCBolyclBf4",
        "outputId": "a807adbb-2cfd-4e4f-af96-a4c16552e6ec"
      },
      "execution_count": 4,
      "outputs": [
        {
          "output_type": "stream",
          "name": "stdout",
          "text": [
            "Processing triggers for libc-bin (2.35-0ubuntu3.1) ...\n",
            "\u001b[33mWARNING: jsonschema 4.3.3 does not provide the extra 'format-nongpl'\u001b[0m\u001b[33m\n",
            "\u001b[0m\u001b[31mERROR: pip's dependency resolver does not currently take into account all the packages that are installed. This behaviour is the source of the following dependency conflicts.\n",
            "google-colab 1.0.0 requires pandas==1.5.3, but you have pandas 2.0.1 which is incompatible.\n",
            "google-colab 1.0.0 requires requests==2.27.1, but you have requests 2.30.0 which is incompatible.\n",
            "tensorflow 2.12.0 requires numpy<1.24,>=1.22, but you have numpy 1.24.3 which is incompatible.\n",
            "torchaudio 2.0.2+cu118 requires torch==2.0.1, but you have torch 2.0.0 which is incompatible.\n",
            "torchdata 0.6.1 requires torch==2.0.1, but you have torch 2.0.0 which is incompatible.\n",
            "torchtext 0.15.2 requires torch==2.0.1, but you have torch 2.0.0 which is incompatible.\u001b[0m\u001b[31m\n",
            "\u001b[0mSuccessfully installed Click-8.1.3 SimpleITK-2.2.1 aiofiles-22.1.0 aiosqlite-0.19.0 albumentations-1.3.0 arrow-1.2.3 asciitree-0.3.3 dicomweb-client-0.59.1 docutils-0.19 fasteners-0.18 fqdn-1.5.1 glymur-0.12.5 imagecodecs-2023.3.16 isoduration-20.11.0 jedi-0.18.2 joblib-1.2.0 json5-0.9.14 jsonpointer-2.4 jsonschema-4.18.4 jsonschema-specifications-2023.7.1 jupyter-events-0.6.3 jupyter-server-fileid-0.9.0 jupyter-server-ydoc-0.8.0 jupyter-ydoc-0.2.5 jupyterlab-3.6.3 jupyterlab-server-2.23.0 llvmlite-0.40.1 nbclassic-1.0.0 notebook-shim-0.2.3 numba-0.57.0 numcodecs-0.11.0 numpy-1.24.3 nvidia-cublas-cu11-11.10.3.66 nvidia-cuda-cupti-cu11-11.7.101 nvidia-cuda-nvrtc-cu11-11.7.99 nvidia-cuda-runtime-cu11-11.7.99 nvidia-cudnn-cu11-8.5.0.96 nvidia-cufft-cu11-10.9.0.58 nvidia-curand-cu11-10.2.10.91 nvidia-cusolver-cu11-11.4.0.1 nvidia-cusparse-cu11-11.7.4.91 nvidia-nccl-cu11-2.14.3 nvidia-nvtx-cu11-11.7.91 opencv-python-4.6.0.66 openslide-python-1.2.0 pandas-2.0.1 pillow-9.5.0 pydicom-2.3.1 pynndescent-0.5.10 python-json-logger-2.0.7 referencing-0.30.0 requests-2.30.0 retrying-1.3.4 rfc3339-validator-0.1.4 rfc3986-validator-0.1.1 rpds-py-0.9.2 scikit-image-0.20.0 sphinx-7.0.0 tiatoolbox-1.4.0 tifffile-2023.4.12 torch-2.0.0 torchvision-0.15.1 tzdata-2023.3 umap-learn-0.5.3 uri-template-1.3.0 wsidicom-0.9.0 y-py-0.6.0 ypy-websocket-0.8.4 zarr-2.14.2\n"
          ]
        },
        {
          "output_type": "display_data",
          "data": {
            "application/vnd.colab-display-data+json": {
              "pip_warning": {
                "packages": [
                  "PIL",
                  "numpy"
                ]
              }
            }
          },
          "metadata": {}
        },
        {
          "output_type": "stream",
          "name": "stdout",
          "text": [
            "Installation is done.\n"
          ]
        }
      ]
    },
    {
      "cell_type": "code",
      "source": [
        "!pip install seaborn"
      ],
      "metadata": {
        "colab": {
          "base_uri": "https://localhost:8080/"
        },
        "id": "wTgAZRzUunQy",
        "outputId": "a21211e8-cbea-4ad0-a589-2722d5cd25d2"
      },
      "execution_count": 1,
      "outputs": [
        {
          "output_type": "stream",
          "name": "stdout",
          "text": [
            "Requirement already satisfied: seaborn in /usr/local/lib/python3.10/dist-packages (0.12.2)\n",
            "Requirement already satisfied: numpy!=1.24.0,>=1.17 in /usr/local/lib/python3.10/dist-packages (from seaborn) (1.24.3)\n",
            "Requirement already satisfied: pandas>=0.25 in /usr/local/lib/python3.10/dist-packages (from seaborn) (2.0.1)\n",
            "Requirement already satisfied: matplotlib!=3.6.1,>=3.1 in /usr/local/lib/python3.10/dist-packages (from seaborn) (3.7.1)\n",
            "Requirement already satisfied: contourpy>=1.0.1 in /usr/local/lib/python3.10/dist-packages (from matplotlib!=3.6.1,>=3.1->seaborn) (1.1.0)\n",
            "Requirement already satisfied: cycler>=0.10 in /usr/local/lib/python3.10/dist-packages (from matplotlib!=3.6.1,>=3.1->seaborn) (0.11.0)\n",
            "Requirement already satisfied: fonttools>=4.22.0 in /usr/local/lib/python3.10/dist-packages (from matplotlib!=3.6.1,>=3.1->seaborn) (4.41.0)\n",
            "Requirement already satisfied: kiwisolver>=1.0.1 in /usr/local/lib/python3.10/dist-packages (from matplotlib!=3.6.1,>=3.1->seaborn) (1.4.4)\n",
            "Requirement already satisfied: packaging>=20.0 in /usr/local/lib/python3.10/dist-packages (from matplotlib!=3.6.1,>=3.1->seaborn) (23.1)\n",
            "Requirement already satisfied: pillow>=6.2.0 in /usr/local/lib/python3.10/dist-packages (from matplotlib!=3.6.1,>=3.1->seaborn) (9.5.0)\n",
            "Requirement already satisfied: pyparsing>=2.3.1 in /usr/local/lib/python3.10/dist-packages (from matplotlib!=3.6.1,>=3.1->seaborn) (3.1.0)\n",
            "Requirement already satisfied: python-dateutil>=2.7 in /usr/local/lib/python3.10/dist-packages (from matplotlib!=3.6.1,>=3.1->seaborn) (2.8.2)\n",
            "Requirement already satisfied: pytz>=2020.1 in /usr/local/lib/python3.10/dist-packages (from pandas>=0.25->seaborn) (2022.7.1)\n",
            "Requirement already satisfied: tzdata>=2022.1 in /usr/local/lib/python3.10/dist-packages (from pandas>=0.25->seaborn) (2023.3)\n",
            "Requirement already satisfied: six>=1.5 in /usr/local/lib/python3.10/dist-packages (from python-dateutil>=2.7->matplotlib!=3.6.1,>=3.1->seaborn) (1.16.0)\n"
          ]
        }
      ]
    },
    {
      "cell_type": "code",
      "source": [
        "ON_GPU = True  # Set to 'True' or 'False', as appropriate."
      ],
      "metadata": {
        "id": "gKPEtzFCv6IO"
      },
      "execution_count": 1,
      "outputs": []
    },
    {
      "cell_type": "markdown",
      "source": [
        "## Clean-up before a run\n",
        "To ensure proper clean-up (for example in abnormal termination), all files downloaded or created in this run are saved in a single directory global_save_dir, which we set equal to \"./tmp/\". To simplify maintenance, the name of the directory occurs only at this one place, so that it can easily be changed, if desired."
      ],
      "metadata": {
        "id": "-ZU8rbM8wPHD"
      }
    },
    {
      "cell_type": "code",
      "source": [
        "import warnings\n",
        "import os\n",
        "import shutil\n",
        "\n",
        "warnings.filterwarnings(\"ignore\")\n",
        "global_save_dir = \"./tmp/\"\n",
        "\n",
        "\n",
        "def rmdir(dir_path):\n",
        "    if os.path.isdir(dir_path):\n",
        "        shutil.rmtree(dir_path)\n",
        "        print(\"removing directory \", dir_path)\n",
        "\n",
        "\n",
        "rmdir(global_save_dir)  # remove  directory if it exists from previous runs\n",
        "os.mkdir(global_save_dir)\n",
        "print(\"creating new directory \", global_save_dir)"
      ],
      "metadata": {
        "colab": {
          "base_uri": "https://localhost:8080/"
        },
        "id": "OU9McfZ4wSYo",
        "outputId": "cf19d66f-2d62-469b-efb7-e650094ea49c"
      },
      "execution_count": 2,
      "outputs": [
        {
          "output_type": "stream",
          "name": "stdout",
          "text": [
            "removing directory  ./tmp/\n",
            "creating new directory  ./tmp/\n"
          ]
        }
      ]
    },
    {
      "cell_type": "markdown",
      "source": [
        "## Importing related libraries\n",
        "We import some standard Python modules, and also the TIAToolbox Python modules for the patch classification task, written by the TIA Centre team."
      ],
      "metadata": {
        "id": "cNbjEhJ6wXmH"
      }
    },
    {
      "cell_type": "code",
      "source": [
        "from tiatoolbox.models.engine.patch_predictor import (\n",
        "    PatchPredictor,\n",
        "    IOPatchPredictorConfig,\n",
        ")\n",
        "from tiatoolbox.utils.misc import imread, grab_files_from_dir\n",
        "from tiatoolbox.utils.visualization import overlay_prediction_mask\n",
        "from tiatoolbox.wsicore.wsireader import WSIReader\n",
        "import numpy as np\n",
        "import matplotlib.pyplot as plt\n",
        "import matplotlib as mpl\n",
        "import os, glob\n",
        "\n",
        "mpl.rcParams[\"figure.dpi\"] = 160  # for high resolution figure in notebook\n",
        "mpl.rcParams[\"figure.facecolor\"] = \"white\"  # To make sure text is visible in dark mode\n"
      ],
      "metadata": {
        "id": "8tr5VWtxwZTe"
      },
      "execution_count": 3,
      "outputs": []
    },
    {
      "cell_type": "markdown",
      "source": [
        "## Downloading the required files\n",
        "We download, over the internet, image files used for the purpose of this notebook. In particular, we download a sample subset of validation patches that were used when training models on the Kather 100k dataset, a sample image tile and a sample whole-slide image. Downloading is needed once in each Colab session and it should take less than 1 minute. In Colab, if you click the file's icon (see below) in the vertical toolbar on the left-hand side then you can see all the files which the code in this notebook can access. The data will appear here when it is downloaded."
      ],
      "metadata": {
        "id": "HN4ct1J9yBmH"
      }
    },
    {
      "cell_type": "code",
      "source": [
        "from tiatoolbox.utils.misc import download_data\n",
        "from zipfile import ZipFile\n",
        "\n",
        "img_file_name = global_save_dir + \"sample_tile.png\"\n",
        "wsi_file_name = global_save_dir + \"sample_wsi.svs\"\n",
        "patches_file_name = global_save_dir + \"kather100k-validation-sample.zip\"\n",
        "imagenet_samples_name = global_save_dir + \"imagenet_samples.zip\"\n",
        "\n",
        "print(\"Download has started. Please wait...\")\n",
        "\n",
        "# Downloading sample image tile\n",
        "download_data(\n",
        "    \"https://tiatoolbox.dcs.warwick.ac.uk/sample_imgs/CRC-Prim-HE-05_APPLICATION.tif\",\n",
        "    img_file_name,\n",
        ")\n",
        "\n",
        "# Downloading sample whole-slide image\n",
        "download_data(\n",
        "    \"https://tiatoolbox.dcs.warwick.ac.uk/sample_wsis/TCGA-3L-AA1B-01Z-00-DX1.8923A151-A690-40B7-9E5A-FCBEDFC2394F.svs\",\n",
        "    wsi_file_name,\n",
        ")\n",
        "\n",
        "# Download a sample of the validation set used to train the Kather 100K dataset\n",
        "download_data(\n",
        "    \"https://tiatoolbox.dcs.warwick.ac.uk/datasets/kather100k-validation-sample.zip\",\n",
        "    patches_file_name,\n",
        ")\n",
        "\n",
        "# Unzip it!\n",
        "with ZipFile(patches_file_name, \"r\") as zipObj:\n",
        "    zipObj.extractall(path=global_save_dir)\n",
        "\n",
        "# Download some samples of imagenet to test the external models\n",
        "download_data(\n",
        "    \"https://tiatoolbox.dcs.warwick.ac.uk/sample_imgs/imagenet_samples.zip\",\n",
        "    imagenet_samples_name,\n",
        ")\n",
        "# Unzip it!\n",
        "with ZipFile(imagenet_samples_name, \"r\") as zipObj:\n",
        "    zipObj.extractall(path=global_save_dir)\n",
        "\n",
        "print(\"Download is complete.\")"
      ],
      "metadata": {
        "colab": {
          "base_uri": "https://localhost:8080/"
        },
        "id": "0lGXrrNoyPkm",
        "outputId": "06666a79-492c-45ab-ee70-5ebef36f209b"
      },
      "execution_count": 4,
      "outputs": [
        {
          "output_type": "stream",
          "name": "stdout",
          "text": [
            "Download has started. Please wait...\n",
            "Download from https://tiatoolbox.dcs.warwick.ac.uk/sample_imgs/CRC-Prim-HE-05_APPLICATION.tif\n",
            "Save to ./tmp/sample_tile.png\n",
            "Download from https://tiatoolbox.dcs.warwick.ac.uk/sample_wsis/TCGA-3L-AA1B-01Z-00-DX1.8923A151-A690-40B7-9E5A-FCBEDFC2394F.svs\n",
            "Save to ./tmp/sample_wsi.svs\n",
            "Download from https://tiatoolbox.dcs.warwick.ac.uk/datasets/kather100k-validation-sample.zip\n",
            "Save to ./tmp/kather100k-validation-sample.zip\n",
            "Download from https://tiatoolbox.dcs.warwick.ac.uk/sample_imgs/imagenet_samples.zip\n",
            "Save to ./tmp/imagenet_samples.zip\n",
            "Download is complete.\n"
          ]
        }
      ]
    },
    {
      "cell_type": "markdown",
      "source": [
        "## Get predictions for a set of patches\n",
        "Below we use tiatoolbox to obtain the model predictions for a set of patches with a pretrained model.\n",
        "\n",
        "We use patches from the validation subset of Kather 100k dataset. This dataset has already been downloaded in the download section above. We first read the data and convert it to a suitable format. In particular, we create a list of patches and a list of corresponding labels. For example, the first label in label_list will indicate the class of the first image patch in patch_list."
      ],
      "metadata": {
        "id": "qPhRyJuGyeI8"
      }
    },
    {
      "cell_type": "code",
      "source": [
        "# read the patch data and create a list of patches and a list of corresponding labels\n",
        "\n",
        "dataset_path = (\n",
        "    global_save_dir + \"/kather100k-validation-sample/\"\n",
        ")  # set the path to the dataset\n",
        "image_ext = \".tif\"  # file extension of each image\n",
        "\n",
        "# obtain the mapping between the label ID and the class name\n",
        "label_dict = {\n",
        "    \"BACK\": 0,\n",
        "    \"NORM\": 1,\n",
        "    \"DEB\": 2,\n",
        "    \"TUM\": 3,\n",
        "    \"ADI\": 4,\n",
        "    \"MUC\": 5,\n",
        "    \"MUS\": 6,\n",
        "    \"STR\": 7,\n",
        "    \"LYM\": 8,\n",
        "}\n",
        "class_names = list(label_dict.keys())\n",
        "class_labels = list(label_dict.values())\n",
        "\n",
        "# generate a list of patches and generate the label from the filename\n",
        "patch_list = []\n",
        "label_list = []\n",
        "for class_name, label in label_dict.items():\n",
        "    dataset_class_path = os.path.join(dataset_path, class_name)\n",
        "    patch_list_single_class = grab_files_from_dir(\n",
        "        dataset_class_path, file_types=\"*\" + image_ext\n",
        "    )\n",
        "    patch_list.extend(patch_list_single_class)\n",
        "    label_list.extend([label] * len(patch_list_single_class))\n",
        "\n",
        "# show some dataset statistics\n",
        "plt.bar(class_names, [label_list.count(label) for label in class_labels])\n",
        "plt.xlabel(\"Patch types\")\n",
        "plt.ylabel(\"Number of patches\")\n",
        "\n",
        "# count the number of examples per class\n",
        "for class_name, label in label_dict.items():\n",
        "    print(\n",
        "        \"Class ID: {} -- Class Name: {} -- Number of images: {}\".format(\n",
        "            label, class_name, label_list.count(label)\n",
        "        )\n",
        "    )\n",
        "\n",
        "\n",
        "# overall dataset statistics\n",
        "print(\"Total number of patches: {}\".format(len(patch_list)))0"
      ],
      "metadata": {
        "colab": {
          "base_uri": "https://localhost:8080/",
          "height": 675
        },
        "id": "UafCjsRYykt0",
        "outputId": "dcf15232-c744-4a26-aa54-6ce67d651edd"
      },
      "execution_count": 5,
      "outputs": [
        {
          "output_type": "stream",
          "name": "stdout",
          "text": [
            "Class ID: 0 -- Class Name: BACK -- Number of images: 211\n",
            "Class ID: 1 -- Class Name: NORM -- Number of images: 176\n",
            "Class ID: 2 -- Class Name: DEB -- Number of images: 230\n",
            "Class ID: 3 -- Class Name: TUM -- Number of images: 286\n",
            "Class ID: 4 -- Class Name: ADI -- Number of images: 208\n",
            "Class ID: 5 -- Class Name: MUC -- Number of images: 178\n",
            "Class ID: 6 -- Class Name: MUS -- Number of images: 270\n",
            "Class ID: 7 -- Class Name: STR -- Number of images: 209\n",
            "Class ID: 8 -- Class Name: LYM -- Number of images: 232\n",
            "Total number of patches: 2000\n"
          ]
        },
        {
          "output_type": "display_data",
          "data": {
            "text/plain": [
              "<Figure size 1024x768 with 1 Axes>"
            ],
            "image/png": "[encoded data removed]"
          },
          "metadata": {}
        }
      ]
    }
  ]
}