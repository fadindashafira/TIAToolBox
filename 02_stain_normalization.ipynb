{
  "nbformat": 4,
  "nbformat_minor": 0,
  "metadata": {
    "colab": {
      "provenance": [],
      "authorship_tag": "ABX9TyNrv63BXkviXMvImfcrlXJi",
      "include_colab_link": true
    },
    "kernelspec": {
      "name": "python3",
      "display_name": "Python 3"
    },
    "language_info": {
      "name": "python"
    }
  },
  "cells": [
    {
      "cell_type": "markdown",
      "metadata": {
        "id": "view-in-github",
        "colab_type": "text"
      },
      "source": [
        "<a href=\"https://colab.research.google.com/github/fadindashafira/TIAToolBox/blob/main/02_stain_normalization.ipynb\" target=\"_parent\"><img src=\"https://colab.research.google.com/assets/colab-badge.svg\" alt=\"Open In Colab\"/></a>"
      ]
    },
    {
      "cell_type": "markdown",
      "source": [
        "# 02. Stain Normalization\n",
        "\n",
        "## Why Normalize Colour?\n",
        "\n",
        "Pathologists usually find it easy to ignore features of WSI that are **irrelevant** from the pov of diagnosis and treatment.\n",
        "\n",
        "However, this is not the case for computers.\n",
        "\n",
        "Standard hazard in digital pathology: Computer program developed using WSI from one centre, did not achieve good results when tried on another WSIs.\n",
        "\n",
        "Factors:\n",
        "- Differences in colouring of WSIs (even when the same standardised staining protocols are in force).\n",
        "\n",
        "Due to:\n",
        "- Variation in slide scanners\n",
        "- The experience and skill of technicians\n",
        "- The quality and concentration of antigens\n",
        "- Incubation time and temperature.\n",
        "\n",
        "Ideally: The same tissue specimes, stained in different lab, should give the same results. But this ideal appears to be unreachable.\n",
        "\n",
        "## Stain Normalization\n",
        "\n",
        "Stain normalization is a common pre-processing step.\n",
        "\n",
        "Goal: To reduce to a minimum colour differences that have no significance in clinical practice.\n",
        "\n",
        "`tiatoolbox` makes a few different stain-norm algorithms availablle to the user and we will explore more in this notebook."
      ],
      "metadata": {
        "id": "wPnDXg1Ls216"
      }
    },
    {
      "cell_type": "markdown",
      "source": [
        "# About\n",
        "\n",
        "In this example, we will do:\n",
        "1. Load a sample WSI\n",
        "2. Extract a square patch\n",
        "3. Stain-norm the tile using various built-in methods\n",
        "4. Stain-norm with a user-defined stain matrix.\n",
        "\n",
        "We will be using functions from `stainnorm` [module](https://github.com/TissueImageAnalytics/tiatoolbox/blob/develop/tiatoolbox/tools/stainnorm.py)."
      ],
      "metadata": {
        "id": "MScnpNChvXuz"
      }
    }
  ]
}